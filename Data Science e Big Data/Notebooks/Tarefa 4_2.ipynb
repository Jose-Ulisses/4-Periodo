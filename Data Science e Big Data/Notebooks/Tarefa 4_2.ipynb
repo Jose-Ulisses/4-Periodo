{
  "nbformat": 4,
  "nbformat_minor": 0,
  "metadata": {
    "colab": {
      "provenance": []
    },
    "kernelspec": {
      "name": "python3",
      "display_name": "Python 3"
    },
    "language_info": {
      "name": "python"
    }
  },
  "cells": [
    {
      "cell_type": "markdown",
      "source": [
        "1) Suponha que a probabilidade dos pais terem um filho(A) com cabelos loiros seja de 1/4. Se houver 6 crianças na família, qual é a probabilidade de que metade delas terem cabelos loiros."
      ],
      "metadata": {
        "id": "5Re8MXfrGLUX"
      }
    },
    {
      "cell_type": "code",
      "source": [
        "from scipy import stats\n",
        "\n",
        "x = 3\n",
        "n = 6\n",
        "p = 0.25\n",
        "\n",
        "stats.binom.pmf(x, n, p)"
      ],
      "metadata": {
        "colab": {
          "base_uri": "https://localhost:8080/"
        },
        "id": "q6W7N9EIGkCx",
        "outputId": "3853206f-e034-4a57-cbd9-9606b168a7bc"
      },
      "execution_count": 2,
      "outputs": [
        {
          "output_type": "execute_result",
          "data": {
            "text/plain": [
              "0.13183593749999992"
            ]
          },
          "metadata": {},
          "execution_count": 2
        }
      ]
    },
    {
      "cell_type": "markdown",
      "source": [
        "2) Nos EUA, o número médio de falências por hora era oito(Fonte: WALL STREET JORNAL - LARSON & FARBER (2006)). Obtenha a probabilidade de ocorrer exatamente quatro falências em uma determinada hora."
      ],
      "metadata": {
        "id": "CPqk7fSpG_fz"
      }
    },
    {
      "cell_type": "code",
      "source": [
        "import math\n",
        "\n",
        "lamb = 8\n",
        "x = 4\n",
        "\n",
        "math.pow(math.e, -lamb) * (math.pow(lamb, x) / math.factorial(x))"
      ],
      "metadata": {
        "colab": {
          "base_uri": "https://localhost:8080/"
        },
        "id": "GgqhdJmPHWHK",
        "outputId": "3baef7df-96ab-4192-9c8d-51f6641048ef"
      },
      "execution_count": 8,
      "outputs": [
        {
          "output_type": "execute_result",
          "data": {
            "text/plain": [
              "0.05725228849536204"
            ]
          },
          "metadata": {},
          "execution_count": 8
        }
      ]
    },
    {
      "cell_type": "markdown",
      "source": [
        "4) O número de horas semanais que os adultos norte-americanos gastam em frente ao computador em casa é normalmente distribuído, com média de 5 horas e desvio padrão de 1 hora. Um adulto foi selecionado ao acaso.\n",
        "\n",
        "A) Obtenha a probabilidade de o número de horas gastas no computador pelo adulto ser inferior a 2,5 semanas."
      ],
      "metadata": {
        "id": "-m6MGFNLJE-Z"
      }
    },
    {
      "cell_type": "code",
      "source": [
        "mu = 5\n",
        "sigma = 1\n",
        "x1 = 2.5\n",
        "\n",
        "stats.norm.cdf(x1, mu, sigma)"
      ],
      "metadata": {
        "colab": {
          "base_uri": "https://localhost:8080/"
        },
        "id": "FeWVqJYDJUOi",
        "outputId": "c17e4559-70ab-443f-8008-957febd7f695"
      },
      "execution_count": 10,
      "outputs": [
        {
          "output_type": "execute_result",
          "data": {
            "text/plain": [
              "0.006209665325776132"
            ]
          },
          "metadata": {},
          "execution_count": 10
        }
      ]
    },
    {
      "cell_type": "markdown",
      "source": [
        "B) Obtenha a probabilidade de o número de horas gastas no computador pelo adulto estar entre 2,5 e 7,5."
      ],
      "metadata": {
        "id": "A5x7T9Q0LBJd"
      }
    },
    {
      "cell_type": "code",
      "source": [
        "z1 = 2.5\n",
        "z2 = 7.5\n",
        "\n",
        "stats.norm.cdf(z2, mu, sigma) - stats.norm.cdf(z1, mu, sigma)"
      ],
      "metadata": {
        "colab": {
          "base_uri": "https://localhost:8080/"
        },
        "id": "9hccCjIQLUwc",
        "outputId": "64790669-140e-4a6e-a519-2de73eeba367"
      },
      "execution_count": 12,
      "outputs": [
        {
          "output_type": "execute_result",
          "data": {
            "text/plain": [
              "0.9875806693484477"
            ]
          },
          "metadata": {},
          "execution_count": 12
        }
      ]
    },
    {
      "cell_type": "markdown",
      "source": [
        "C) Obtenha a probabilidade de o número de horas gastas no computador ser superior a 7,5 horas semanais."
      ],
      "metadata": {
        "id": "mHeONLadKr1D"
      }
    },
    {
      "cell_type": "code",
      "source": [
        "x3 = 7.5\n",
        "\n",
        "1 - stats.norm.cdf(x3, mu, sigma)"
      ],
      "metadata": {
        "colab": {
          "base_uri": "https://localhost:8080/"
        },
        "id": "HO39-vUqK1yV",
        "outputId": "09cd74b3-a4de-4146-f0b4-78f57050f37e"
      },
      "execution_count": 13,
      "outputs": [
        {
          "output_type": "execute_result",
          "data": {
            "text/plain": [
              "0.006209665325776159"
            ]
          },
          "metadata": {},
          "execution_count": 13
        }
      ]
    }
  ]
}