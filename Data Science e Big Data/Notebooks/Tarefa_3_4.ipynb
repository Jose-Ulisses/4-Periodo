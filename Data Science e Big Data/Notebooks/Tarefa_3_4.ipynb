{
  "nbformat": 4,
  "nbformat_minor": 0,
  "metadata": {
    "colab": {
      "provenance": []
    },
    "kernelspec": {
      "name": "python3",
      "display_name": "Python 3"
    }
  },
  "cells": [
    {
      "cell_type": "markdown",
      "metadata": {
        "id": "jZM3XREkvOba"
      },
      "source": [
        "---\n",
        "\n",
        "---\n",
        "## Tarefa 3.4 - Análise Exploratória e Estatística Descritiva - Medidas estatísticas utilizando Pyhton\n",
        "\n",
        "Esta tarefa consiste analisar por meio de métodos de descrição paramétrica (medidas estatísticas) o conjunto de dados *Hourly Wages*.\n",
        "\n",
        "Você deve implementar em Python os itens solicitados abaixo utilizando a biblioteca Pandas e outras que forem necessárias.\n",
        "\n",
        "---\n",
        "\n",
        "\n",
        "\n",
        "---\n",
        "\n"
      ]
    },
    {
      "cell_type": "markdown",
      "metadata": {
        "id": "IPxitpXn5GFN"
      },
      "source": [
        "## Conjunto de dados *Hourly Wages*\n",
        "\n",
        "Esse conjunto de dados é popularmente empregado para a tarefa de regressão em Machine Learning. Constrói-se e ajusta-se um modelo de aprendizado de máquina para predizer/estimar o salário de um funcionário em função de suas características (anos de estudos, experiência de trabalho, filiação sindical, região, ocupação e sexo).\n",
        "\n",
        "- Número de Instâncias: 534\n",
        "\n",
        "- Número de Atributos: 9 atributos numéricos e o target (*wage_per_hour*)\n",
        "\n",
        "- Informações dos Atributos:\n",
        "  - union (filiação sindical)\n",
        "  - education_yrs (anos de instrução)\n",
        "  - experience_yrs (anos de experiência)\n",
        "  - age (idade)\n",
        "  - female (sexo)\n",
        "  - marr (estado civil - casado)\n",
        "  - south (região)\n",
        "  - manufacturing (indústria)\n",
        "  - construction (construção)\n",
        "\n",
        "  \n",
        "- Variável de destino (target): wage_per_hour\n",
        "\n"
      ]
    },
    {
      "cell_type": "markdown",
      "source": [
        "## Implementar os itens abaixo:"
      ],
      "metadata": {
        "id": "4B33fWHi7rrc"
      }
    },
    {
      "cell_type": "markdown",
      "metadata": {
        "id": "nufGipDieZbc"
      },
      "source": [
        "#### a-) Clonar o repositório de dados da disciplina (DSBD) hospedado no GitHUb.\n"
      ]
    },
    {
      "cell_type": "code",
      "metadata": {
        "id": "ZaJpoCYtejnr",
        "outputId": "11a1cc9b-a030-4732-98ff-b159d8624286",
        "colab": {
          "base_uri": "https://localhost:8080/"
        }
      },
      "source": [
        "!git clone \"https://github.com/malegopc/DSBD\""
      ],
      "execution_count": 103,
      "outputs": [
        {
          "output_type": "stream",
          "name": "stdout",
          "text": [
            "fatal: destination path 'DSBD' already exists and is not an empty directory.\n"
          ]
        }
      ]
    },
    {
      "cell_type": "markdown",
      "metadata": {
        "id": "4G6UZT6QC_us"
      },
      "source": [
        "#### b-) Ler o dataset \"*Hourly_wages/hourly_wages.csv*\" como dataframe utilizando a biblioteca Pandas e mostrar as 5 primeiras e as 5 últimas linhas do dataset."
      ]
    },
    {
      "cell_type": "code",
      "metadata": {
        "id": "rRbFDx1iDCLq",
        "outputId": "c840ad08-d5c9-481d-c585-8a472bfa3c98",
        "colab": {
          "base_uri": "https://localhost:8080/"
        }
      },
      "source": [
        "import pandas as pd\n",
        "import numpy as np\n",
        "\n",
        "df = pd.read_csv(\"DSBD/Datasets/Hourly_wages/hourly_wages.csv\", na_values=['?'])\n",
        "\n",
        "print(df.head(5))\n",
        "print(df.tail(5))\n",
        "\n"
      ],
      "execution_count": 104,
      "outputs": [
        {
          "output_type": "stream",
          "name": "stdout",
          "text": [
            "   wage_per_hour  union  education_yrs  experience_yrs  age  female  marr  \\\n",
            "0           5.10      0              8              21   35       1     1   \n",
            "1           4.95      0              9              42   57       1     1   \n",
            "2           6.67      0             12               1   19       0     0   \n",
            "3           4.00      0             12               4   22       0     0   \n",
            "4           7.50      0             12              17   35       0     1   \n",
            "\n",
            "   south  manufacturing  construction  \n",
            "0      0              1             0  \n",
            "1      0              1             0  \n",
            "2      0              1             0  \n",
            "3      0              0             0  \n",
            "4      0              0             0  \n",
            "     wage_per_hour  union  education_yrs  experience_yrs  age  female  marr  \\\n",
            "529          11.36      0             18               5   29       0     0   \n",
            "530           6.10      0             12              33   51       1     1   \n",
            "531          23.25      1             17              25   48       1     1   \n",
            "532          19.88      1             12              13   31       0     1   \n",
            "533          15.38      0             16              33   55       0     1   \n",
            "\n",
            "     south  manufacturing  construction  \n",
            "529      0              0             0  \n",
            "530      0              0             0  \n",
            "531      0              0             0  \n",
            "532      1              0             0  \n",
            "533      0              1             0  \n"
          ]
        }
      ]
    },
    {
      "cell_type": "markdown",
      "metadata": {
        "id": "VccXvtXmOJy7"
      },
      "source": [
        "#### c-) Obter um resumo da estatística descritiva dos dados utilizando um único comando (função)."
      ]
    },
    {
      "cell_type": "code",
      "metadata": {
        "id": "WHpUgIoROTpq",
        "outputId": "06369c04-64e1-4f7e-c14e-4c0ea7cb4f28",
        "colab": {
          "base_uri": "https://localhost:8080/",
          "height": 300
        }
      },
      "source": [
        "df.describe()"
      ],
      "execution_count": 105,
      "outputs": [
        {
          "output_type": "execute_result",
          "data": {
            "text/plain": [
              "       wage_per_hour       union  education_yrs  experience_yrs         age  \\\n",
              "count     534.000000  534.000000     534.000000      534.000000  534.000000   \n",
              "mean        9.024064    0.179775      13.018727       17.822097   36.833333   \n",
              "std         5.139097    0.384360       2.615373       12.379710   11.726573   \n",
              "min         1.000000    0.000000       2.000000        0.000000   18.000000   \n",
              "25%         5.250000    0.000000      12.000000        8.000000   28.000000   \n",
              "50%         7.780000    0.000000      12.000000       15.000000   35.000000   \n",
              "75%        11.250000    0.000000      15.000000       26.000000   44.000000   \n",
              "max        44.500000    1.000000      18.000000       55.000000   64.000000   \n",
              "\n",
              "           female        marr       south  manufacturing  construction  \n",
              "count  534.000000  534.000000  534.000000     534.000000    534.000000  \n",
              "mean     0.458801    0.655431    0.292135       0.185393      0.044944  \n",
              "std      0.498767    0.475673    0.455170       0.388981      0.207375  \n",
              "min      0.000000    0.000000    0.000000       0.000000      0.000000  \n",
              "25%      0.000000    0.000000    0.000000       0.000000      0.000000  \n",
              "50%      0.000000    1.000000    0.000000       0.000000      0.000000  \n",
              "75%      1.000000    1.000000    1.000000       0.000000      0.000000  \n",
              "max      1.000000    1.000000    1.000000       1.000000      1.000000  "
            ],
            "text/html": [
              "\n",
              "  <div id=\"df-42b40ffd-6587-4966-82b7-648fea208f76\" class=\"colab-df-container\">\n",
              "    <div>\n",
              "<style scoped>\n",
              "    .dataframe tbody tr th:only-of-type {\n",
              "        vertical-align: middle;\n",
              "    }\n",
              "\n",
              "    .dataframe tbody tr th {\n",
              "        vertical-align: top;\n",
              "    }\n",
              "\n",
              "    .dataframe thead th {\n",
              "        text-align: right;\n",
              "    }\n",
              "</style>\n",
              "<table border=\"1\" class=\"dataframe\">\n",
              "  <thead>\n",
              "    <tr style=\"text-align: right;\">\n",
              "      <th></th>\n",
              "      <th>wage_per_hour</th>\n",
              "      <th>union</th>\n",
              "      <th>education_yrs</th>\n",
              "      <th>experience_yrs</th>\n",
              "      <th>age</th>\n",
              "      <th>female</th>\n",
              "      <th>marr</th>\n",
              "      <th>south</th>\n",
              "      <th>manufacturing</th>\n",
              "      <th>construction</th>\n",
              "    </tr>\n",
              "  </thead>\n",
              "  <tbody>\n",
              "    <tr>\n",
              "      <th>count</th>\n",
              "      <td>534.000000</td>\n",
              "      <td>534.000000</td>\n",
              "      <td>534.000000</td>\n",
              "      <td>534.000000</td>\n",
              "      <td>534.000000</td>\n",
              "      <td>534.000000</td>\n",
              "      <td>534.000000</td>\n",
              "      <td>534.000000</td>\n",
              "      <td>534.000000</td>\n",
              "      <td>534.000000</td>\n",
              "    </tr>\n",
              "    <tr>\n",
              "      <th>mean</th>\n",
              "      <td>9.024064</td>\n",
              "      <td>0.179775</td>\n",
              "      <td>13.018727</td>\n",
              "      <td>17.822097</td>\n",
              "      <td>36.833333</td>\n",
              "      <td>0.458801</td>\n",
              "      <td>0.655431</td>\n",
              "      <td>0.292135</td>\n",
              "      <td>0.185393</td>\n",
              "      <td>0.044944</td>\n",
              "    </tr>\n",
              "    <tr>\n",
              "      <th>std</th>\n",
              "      <td>5.139097</td>\n",
              "      <td>0.384360</td>\n",
              "      <td>2.615373</td>\n",
              "      <td>12.379710</td>\n",
              "      <td>11.726573</td>\n",
              "      <td>0.498767</td>\n",
              "      <td>0.475673</td>\n",
              "      <td>0.455170</td>\n",
              "      <td>0.388981</td>\n",
              "      <td>0.207375</td>\n",
              "    </tr>\n",
              "    <tr>\n",
              "      <th>min</th>\n",
              "      <td>1.000000</td>\n",
              "      <td>0.000000</td>\n",
              "      <td>2.000000</td>\n",
              "      <td>0.000000</td>\n",
              "      <td>18.000000</td>\n",
              "      <td>0.000000</td>\n",
              "      <td>0.000000</td>\n",
              "      <td>0.000000</td>\n",
              "      <td>0.000000</td>\n",
              "      <td>0.000000</td>\n",
              "    </tr>\n",
              "    <tr>\n",
              "      <th>25%</th>\n",
              "      <td>5.250000</td>\n",
              "      <td>0.000000</td>\n",
              "      <td>12.000000</td>\n",
              "      <td>8.000000</td>\n",
              "      <td>28.000000</td>\n",
              "      <td>0.000000</td>\n",
              "      <td>0.000000</td>\n",
              "      <td>0.000000</td>\n",
              "      <td>0.000000</td>\n",
              "      <td>0.000000</td>\n",
              "    </tr>\n",
              "    <tr>\n",
              "      <th>50%</th>\n",
              "      <td>7.780000</td>\n",
              "      <td>0.000000</td>\n",
              "      <td>12.000000</td>\n",
              "      <td>15.000000</td>\n",
              "      <td>35.000000</td>\n",
              "      <td>0.000000</td>\n",
              "      <td>1.000000</td>\n",
              "      <td>0.000000</td>\n",
              "      <td>0.000000</td>\n",
              "      <td>0.000000</td>\n",
              "    </tr>\n",
              "    <tr>\n",
              "      <th>75%</th>\n",
              "      <td>11.250000</td>\n",
              "      <td>0.000000</td>\n",
              "      <td>15.000000</td>\n",
              "      <td>26.000000</td>\n",
              "      <td>44.000000</td>\n",
              "      <td>1.000000</td>\n",
              "      <td>1.000000</td>\n",
              "      <td>1.000000</td>\n",
              "      <td>0.000000</td>\n",
              "      <td>0.000000</td>\n",
              "    </tr>\n",
              "    <tr>\n",
              "      <th>max</th>\n",
              "      <td>44.500000</td>\n",
              "      <td>1.000000</td>\n",
              "      <td>18.000000</td>\n",
              "      <td>55.000000</td>\n",
              "      <td>64.000000</td>\n",
              "      <td>1.000000</td>\n",
              "      <td>1.000000</td>\n",
              "      <td>1.000000</td>\n",
              "      <td>1.000000</td>\n",
              "      <td>1.000000</td>\n",
              "    </tr>\n",
              "  </tbody>\n",
              "</table>\n",
              "</div>\n",
              "    <div class=\"colab-df-buttons\">\n",
              "\n",
              "  <div class=\"colab-df-container\">\n",
              "    <button class=\"colab-df-convert\" onclick=\"convertToInteractive('df-42b40ffd-6587-4966-82b7-648fea208f76')\"\n",
              "            title=\"Convert this dataframe to an interactive table.\"\n",
              "            style=\"display:none;\">\n",
              "\n",
              "  <svg xmlns=\"http://www.w3.org/2000/svg\" height=\"24px\" viewBox=\"0 -960 960 960\">\n",
              "    <path d=\"M120-120v-720h720v720H120Zm60-500h600v-160H180v160Zm220 220h160v-160H400v160Zm0 220h160v-160H400v160ZM180-400h160v-160H180v160Zm440 0h160v-160H620v160ZM180-180h160v-160H180v160Zm440 0h160v-160H620v160Z\"/>\n",
              "  </svg>\n",
              "    </button>\n",
              "\n",
              "  <style>\n",
              "    .colab-df-container {\n",
              "      display:flex;\n",
              "      gap: 12px;\n",
              "    }\n",
              "\n",
              "    .colab-df-convert {\n",
              "      background-color: #E8F0FE;\n",
              "      border: none;\n",
              "      border-radius: 50%;\n",
              "      cursor: pointer;\n",
              "      display: none;\n",
              "      fill: #1967D2;\n",
              "      height: 32px;\n",
              "      padding: 0 0 0 0;\n",
              "      width: 32px;\n",
              "    }\n",
              "\n",
              "    .colab-df-convert:hover {\n",
              "      background-color: #E2EBFA;\n",
              "      box-shadow: 0px 1px 2px rgba(60, 64, 67, 0.3), 0px 1px 3px 1px rgba(60, 64, 67, 0.15);\n",
              "      fill: #174EA6;\n",
              "    }\n",
              "\n",
              "    .colab-df-buttons div {\n",
              "      margin-bottom: 4px;\n",
              "    }\n",
              "\n",
              "    [theme=dark] .colab-df-convert {\n",
              "      background-color: #3B4455;\n",
              "      fill: #D2E3FC;\n",
              "    }\n",
              "\n",
              "    [theme=dark] .colab-df-convert:hover {\n",
              "      background-color: #434B5C;\n",
              "      box-shadow: 0px 1px 3px 1px rgba(0, 0, 0, 0.15);\n",
              "      filter: drop-shadow(0px 1px 2px rgba(0, 0, 0, 0.3));\n",
              "      fill: #FFFFFF;\n",
              "    }\n",
              "  </style>\n",
              "\n",
              "    <script>\n",
              "      const buttonEl =\n",
              "        document.querySelector('#df-42b40ffd-6587-4966-82b7-648fea208f76 button.colab-df-convert');\n",
              "      buttonEl.style.display =\n",
              "        google.colab.kernel.accessAllowed ? 'block' : 'none';\n",
              "\n",
              "      async function convertToInteractive(key) {\n",
              "        const element = document.querySelector('#df-42b40ffd-6587-4966-82b7-648fea208f76');\n",
              "        const dataTable =\n",
              "          await google.colab.kernel.invokeFunction('convertToInteractive',\n",
              "                                                    [key], {});\n",
              "        if (!dataTable) return;\n",
              "\n",
              "        const docLinkHtml = 'Like what you see? Visit the ' +\n",
              "          '<a target=\"_blank\" href=https://colab.research.google.com/notebooks/data_table.ipynb>data table notebook</a>'\n",
              "          + ' to learn more about interactive tables.';\n",
              "        element.innerHTML = '';\n",
              "        dataTable['output_type'] = 'display_data';\n",
              "        await google.colab.output.renderOutput(dataTable, element);\n",
              "        const docLink = document.createElement('div');\n",
              "        docLink.innerHTML = docLinkHtml;\n",
              "        element.appendChild(docLink);\n",
              "      }\n",
              "    </script>\n",
              "  </div>\n",
              "\n",
              "\n",
              "<div id=\"df-2d59bd1d-1a54-4647-a34b-98239ffc3419\">\n",
              "  <button class=\"colab-df-quickchart\" onclick=\"quickchart('df-2d59bd1d-1a54-4647-a34b-98239ffc3419')\"\n",
              "            title=\"Suggest charts\"\n",
              "            style=\"display:none;\">\n",
              "\n",
              "<svg xmlns=\"http://www.w3.org/2000/svg\" height=\"24px\"viewBox=\"0 0 24 24\"\n",
              "     width=\"24px\">\n",
              "    <g>\n",
              "        <path d=\"M19 3H5c-1.1 0-2 .9-2 2v14c0 1.1.9 2 2 2h14c1.1 0 2-.9 2-2V5c0-1.1-.9-2-2-2zM9 17H7v-7h2v7zm4 0h-2V7h2v10zm4 0h-2v-4h2v4z\"/>\n",
              "    </g>\n",
              "</svg>\n",
              "  </button>\n",
              "\n",
              "<style>\n",
              "  .colab-df-quickchart {\n",
              "      --bg-color: #E8F0FE;\n",
              "      --fill-color: #1967D2;\n",
              "      --hover-bg-color: #E2EBFA;\n",
              "      --hover-fill-color: #174EA6;\n",
              "      --disabled-fill-color: #AAA;\n",
              "      --disabled-bg-color: #DDD;\n",
              "  }\n",
              "\n",
              "  [theme=dark] .colab-df-quickchart {\n",
              "      --bg-color: #3B4455;\n",
              "      --fill-color: #D2E3FC;\n",
              "      --hover-bg-color: #434B5C;\n",
              "      --hover-fill-color: #FFFFFF;\n",
              "      --disabled-bg-color: #3B4455;\n",
              "      --disabled-fill-color: #666;\n",
              "  }\n",
              "\n",
              "  .colab-df-quickchart {\n",
              "    background-color: var(--bg-color);\n",
              "    border: none;\n",
              "    border-radius: 50%;\n",
              "    cursor: pointer;\n",
              "    display: none;\n",
              "    fill: var(--fill-color);\n",
              "    height: 32px;\n",
              "    padding: 0;\n",
              "    width: 32px;\n",
              "  }\n",
              "\n",
              "  .colab-df-quickchart:hover {\n",
              "    background-color: var(--hover-bg-color);\n",
              "    box-shadow: 0 1px 2px rgba(60, 64, 67, 0.3), 0 1px 3px 1px rgba(60, 64, 67, 0.15);\n",
              "    fill: var(--button-hover-fill-color);\n",
              "  }\n",
              "\n",
              "  .colab-df-quickchart-complete:disabled,\n",
              "  .colab-df-quickchart-complete:disabled:hover {\n",
              "    background-color: var(--disabled-bg-color);\n",
              "    fill: var(--disabled-fill-color);\n",
              "    box-shadow: none;\n",
              "  }\n",
              "\n",
              "  .colab-df-spinner {\n",
              "    border: 2px solid var(--fill-color);\n",
              "    border-color: transparent;\n",
              "    border-bottom-color: var(--fill-color);\n",
              "    animation:\n",
              "      spin 1s steps(1) infinite;\n",
              "  }\n",
              "\n",
              "  @keyframes spin {\n",
              "    0% {\n",
              "      border-color: transparent;\n",
              "      border-bottom-color: var(--fill-color);\n",
              "      border-left-color: var(--fill-color);\n",
              "    }\n",
              "    20% {\n",
              "      border-color: transparent;\n",
              "      border-left-color: var(--fill-color);\n",
              "      border-top-color: var(--fill-color);\n",
              "    }\n",
              "    30% {\n",
              "      border-color: transparent;\n",
              "      border-left-color: var(--fill-color);\n",
              "      border-top-color: var(--fill-color);\n",
              "      border-right-color: var(--fill-color);\n",
              "    }\n",
              "    40% {\n",
              "      border-color: transparent;\n",
              "      border-right-color: var(--fill-color);\n",
              "      border-top-color: var(--fill-color);\n",
              "    }\n",
              "    60% {\n",
              "      border-color: transparent;\n",
              "      border-right-color: var(--fill-color);\n",
              "    }\n",
              "    80% {\n",
              "      border-color: transparent;\n",
              "      border-right-color: var(--fill-color);\n",
              "      border-bottom-color: var(--fill-color);\n",
              "    }\n",
              "    90% {\n",
              "      border-color: transparent;\n",
              "      border-bottom-color: var(--fill-color);\n",
              "    }\n",
              "  }\n",
              "</style>\n",
              "\n",
              "  <script>\n",
              "    async function quickchart(key) {\n",
              "      const quickchartButtonEl =\n",
              "        document.querySelector('#' + key + ' button');\n",
              "      quickchartButtonEl.disabled = true;  // To prevent multiple clicks.\n",
              "      quickchartButtonEl.classList.add('colab-df-spinner');\n",
              "      try {\n",
              "        const charts = await google.colab.kernel.invokeFunction(\n",
              "            'suggestCharts', [key], {});\n",
              "      } catch (error) {\n",
              "        console.error('Error during call to suggestCharts:', error);\n",
              "      }\n",
              "      quickchartButtonEl.classList.remove('colab-df-spinner');\n",
              "      quickchartButtonEl.classList.add('colab-df-quickchart-complete');\n",
              "    }\n",
              "    (() => {\n",
              "      let quickchartButtonEl =\n",
              "        document.querySelector('#df-2d59bd1d-1a54-4647-a34b-98239ffc3419 button');\n",
              "      quickchartButtonEl.style.display =\n",
              "        google.colab.kernel.accessAllowed ? 'block' : 'none';\n",
              "    })();\n",
              "  </script>\n",
              "</div>\n",
              "\n",
              "    </div>\n",
              "  </div>\n"
            ],
            "application/vnd.google.colaboratory.intrinsic+json": {
              "type": "dataframe",
              "summary": "{\n  \"name\": \"df\",\n  \"rows\": 8,\n  \"fields\": [\n    {\n      \"column\": \"wage_per_hour\",\n      \"properties\": {\n        \"dtype\": \"number\",\n        \"std\": 185.0590750222826,\n        \"min\": 1.0,\n        \"max\": 534.0,\n        \"num_unique_values\": 8,\n        \"samples\": [\n          9.024063670411985,\n          7.78,\n          534.0\n        ],\n        \"semantic_type\": \"\",\n        \"description\": \"\"\n      }\n    },\n    {\n      \"column\": \"union\",\n      \"properties\": {\n        \"dtype\": \"number\",\n        \"std\": 188.7188241602286,\n        \"min\": 0.0,\n        \"max\": 534.0,\n        \"num_unique_values\": 5,\n        \"samples\": [\n          0.1797752808988764,\n          1.0,\n          0.3843602248246029\n        ],\n        \"semantic_type\": \"\",\n        \"description\": \"\"\n      }\n    },\n    {\n      \"column\": \"education_yrs\",\n      \"properties\": {\n        \"dtype\": \"number\",\n        \"std\": 185.1134378368229,\n        \"min\": 2.0,\n        \"max\": 534.0,\n        \"num_unique_values\": 7,\n        \"samples\": [\n          534.0,\n          13.0187265917603,\n          15.0\n        ],\n        \"semantic_type\": \"\",\n        \"description\": \"\"\n      }\n    },\n    {\n      \"column\": \"experience_yrs\",\n      \"properties\": {\n        \"dtype\": \"number\",\n        \"std\": 182.7586923628279,\n        \"min\": 0.0,\n        \"max\": 534.0,\n        \"num_unique_values\": 8,\n        \"samples\": [\n          17.822097378277153,\n          15.0,\n          534.0\n        ],\n        \"semantic_type\": \"\",\n        \"description\": \"\"\n      }\n    },\n    {\n      \"column\": \"age\",\n      \"properties\": {\n        \"dtype\": \"number\",\n        \"std\": 177.52348773095605,\n        \"min\": 11.726572722555636,\n        \"max\": 534.0,\n        \"num_unique_values\": 8,\n        \"samples\": [\n          36.833333333333336,\n          35.0,\n          534.0\n        ],\n        \"semantic_type\": \"\",\n        \"description\": \"\"\n      }\n    },\n    {\n      \"column\": \"female\",\n      \"properties\": {\n        \"dtype\": \"number\",\n        \"std\": 188.64858882834775,\n        \"min\": 0.0,\n        \"max\": 534.0,\n        \"num_unique_values\": 5,\n        \"samples\": [\n          0.45880149812734083,\n          1.0,\n          0.49876702190159705\n        ],\n        \"semantic_type\": \"\",\n        \"description\": \"\"\n      }\n    },\n    {\n      \"column\": \"marr\",\n      \"properties\": {\n        \"dtype\": \"number\",\n        \"std\": 188.58931958368123,\n        \"min\": 0.0,\n        \"max\": 534.0,\n        \"num_unique_values\": 5,\n        \"samples\": [\n          0.6554307116104869,\n          1.0,\n          0.4756732188567893\n        ],\n        \"semantic_type\": \"\",\n        \"description\": \"\"\n      }\n    },\n    {\n      \"column\": \"south\",\n      \"properties\": {\n        \"dtype\": \"number\",\n        \"std\": 188.65921045256533,\n        \"min\": 0.0,\n        \"max\": 534.0,\n        \"num_unique_values\": 5,\n        \"samples\": [\n          0.29213483146067415,\n          1.0,\n          0.45517035198767414\n        ],\n        \"semantic_type\": \"\",\n        \"description\": \"\"\n      }\n    },\n    {\n      \"column\": \"manufacturing\",\n      \"properties\": {\n        \"dtype\": \"number\",\n        \"std\": 188.71830743532323,\n        \"min\": 0.0,\n        \"max\": 534.0,\n        \"num_unique_values\": 5,\n        \"samples\": [\n          0.1853932584269663,\n          1.0,\n          0.3889806455578877\n        ],\n        \"semantic_type\": \"\",\n        \"description\": \"\"\n      }\n    },\n    {\n      \"column\": \"construction\",\n      \"properties\": {\n        \"dtype\": \"number\",\n        \"std\": 188.73456963196426,\n        \"min\": 0.0,\n        \"max\": 534.0,\n        \"num_unique_values\": 5,\n        \"samples\": [\n          0.0449438202247191,\n          1.0,\n          0.2073750366932815\n        ],\n        \"semantic_type\": \"\",\n        \"description\": \"\"\n      }\n    }\n  ]\n}"
            }
          },
          "metadata": {},
          "execution_count": 105
        }
      ]
    },
    {
      "cell_type": "markdown",
      "source": [
        "#### d-) Calcule a proporção de funcionários de sexo masculino e feminino."
      ],
      "metadata": {
        "id": "6c2QQ18WB5Vb"
      }
    },
    {
      "cell_type": "code",
      "source": [
        "df.female.value_counts()"
      ],
      "metadata": {
        "id": "v2ME0aM2CIq8",
        "outputId": "1fb13c12-f60c-4d6b-8667-b1494017b0bb",
        "colab": {
          "base_uri": "https://localhost:8080/",
          "height": 178
        }
      },
      "execution_count": 106,
      "outputs": [
        {
          "output_type": "execute_result",
          "data": {
            "text/plain": [
              "female\n",
              "0    289\n",
              "1    245\n",
              "Name: count, dtype: int64"
            ],
            "text/html": [
              "<div>\n",
              "<style scoped>\n",
              "    .dataframe tbody tr th:only-of-type {\n",
              "        vertical-align: middle;\n",
              "    }\n",
              "\n",
              "    .dataframe tbody tr th {\n",
              "        vertical-align: top;\n",
              "    }\n",
              "\n",
              "    .dataframe thead th {\n",
              "        text-align: right;\n",
              "    }\n",
              "</style>\n",
              "<table border=\"1\" class=\"dataframe\">\n",
              "  <thead>\n",
              "    <tr style=\"text-align: right;\">\n",
              "      <th></th>\n",
              "      <th>count</th>\n",
              "    </tr>\n",
              "    <tr>\n",
              "      <th>female</th>\n",
              "      <th></th>\n",
              "    </tr>\n",
              "  </thead>\n",
              "  <tbody>\n",
              "    <tr>\n",
              "      <th>0</th>\n",
              "      <td>289</td>\n",
              "    </tr>\n",
              "    <tr>\n",
              "      <th>1</th>\n",
              "      <td>245</td>\n",
              "    </tr>\n",
              "  </tbody>\n",
              "</table>\n",
              "</div><br><label><b>dtype:</b> int64</label>"
            ]
          },
          "metadata": {},
          "execution_count": 106
        }
      ]
    },
    {
      "cell_type": "markdown",
      "source": [
        "#### e-) Calcule a proporção de casados e solteiros."
      ],
      "metadata": {
        "id": "LniJ24RxETKy"
      }
    },
    {
      "cell_type": "code",
      "source": [
        "df.marr.value_counts()"
      ],
      "metadata": {
        "id": "6__WiQEeEhdS",
        "outputId": "49865421-7418-41ad-c9a4-5c37dbaa074e",
        "colab": {
          "base_uri": "https://localhost:8080/",
          "height": 178
        }
      },
      "execution_count": 107,
      "outputs": [
        {
          "output_type": "execute_result",
          "data": {
            "text/plain": [
              "marr\n",
              "1    350\n",
              "0    184\n",
              "Name: count, dtype: int64"
            ],
            "text/html": [
              "<div>\n",
              "<style scoped>\n",
              "    .dataframe tbody tr th:only-of-type {\n",
              "        vertical-align: middle;\n",
              "    }\n",
              "\n",
              "    .dataframe tbody tr th {\n",
              "        vertical-align: top;\n",
              "    }\n",
              "\n",
              "    .dataframe thead th {\n",
              "        text-align: right;\n",
              "    }\n",
              "</style>\n",
              "<table border=\"1\" class=\"dataframe\">\n",
              "  <thead>\n",
              "    <tr style=\"text-align: right;\">\n",
              "      <th></th>\n",
              "      <th>count</th>\n",
              "    </tr>\n",
              "    <tr>\n",
              "      <th>marr</th>\n",
              "      <th></th>\n",
              "    </tr>\n",
              "  </thead>\n",
              "  <tbody>\n",
              "    <tr>\n",
              "      <th>1</th>\n",
              "      <td>350</td>\n",
              "    </tr>\n",
              "    <tr>\n",
              "      <th>0</th>\n",
              "      <td>184</td>\n",
              "    </tr>\n",
              "  </tbody>\n",
              "</table>\n",
              "</div><br><label><b>dtype:</b> int64</label>"
            ]
          },
          "metadata": {},
          "execution_count": 107
        }
      ]
    },
    {
      "cell_type": "markdown",
      "source": [
        "#### f-) Calcule as médias de cada uma das variáveis: anos de educação, anos de experiência e idade"
      ],
      "metadata": {
        "id": "D1Fwp7rgEh-f"
      }
    },
    {
      "cell_type": "code",
      "source": [
        "print('Média da variável anos de educação: ',df['education_yrs'].mean())\n",
        "print('Média da variávl anos de experiência: ',df['experience_yrs'].mean())\n",
        "print('Média da variável idade:', df['age'].mean())"
      ],
      "metadata": {
        "id": "wj_QM5PgEp_7",
        "outputId": "2ccc6195-e1bd-4d2d-cb07-f511061b6f95",
        "colab": {
          "base_uri": "https://localhost:8080/"
        }
      },
      "execution_count": 108,
      "outputs": [
        {
          "output_type": "stream",
          "name": "stdout",
          "text": [
            "Média da variável anos de educação:  13.0187265917603\n",
            "Média da variávl anos de experiência:  17.822097378277153\n",
            "Média da variável idade: 36.833333333333336\n"
          ]
        }
      ]
    },
    {
      "cell_type": "markdown",
      "source": [
        "#### g-) Calcule as medianas de cada uma das variáveis: anos de educação, anos de experiência e idade."
      ],
      "metadata": {
        "id": "quy0rserFE5V"
      }
    },
    {
      "cell_type": "code",
      "source": [
        "print('Mediana da variável anos de educação: ',df['education_yrs'].median())\n",
        "print('Mediana da variávl anos de experiência: ',df['experience_yrs'].median())\n",
        "print('Mediana da variável idade:', df['age'].median())"
      ],
      "metadata": {
        "id": "zvMebS_bFcs-",
        "outputId": "b474c0db-f8b7-4b76-c1c6-e54d953950ba",
        "colab": {
          "base_uri": "https://localhost:8080/"
        }
      },
      "execution_count": 109,
      "outputs": [
        {
          "output_type": "stream",
          "name": "stdout",
          "text": [
            "Mediana da variável anos de educação:  12.0\n",
            "Mediana da variávl anos de experiência:  15.0\n",
            "Mediana da variável idade: 35.0\n"
          ]
        }
      ]
    },
    {
      "cell_type": "markdown",
      "source": [
        "####h-) Calcule as modas de cada uma das variáveis: anos de educação, anos de experiência e idade."
      ],
      "metadata": {
        "id": "HmBKD12oLVKC"
      }
    },
    {
      "cell_type": "code",
      "source": [
        "print('Moda da variável anos de educação: ',df['education_yrs'].mode())\n",
        "print('Moda da variávl anos de experiência: ',df['experience_yrs'].mode())\n",
        "print('Moda da variável idade:', df['age'].mode())"
      ],
      "metadata": {
        "id": "YnitL-oeLblK",
        "outputId": "9cf8d742-b2f5-42d5-9f63-a1356aea300a",
        "colab": {
          "base_uri": "https://localhost:8080/"
        }
      },
      "execution_count": 110,
      "outputs": [
        {
          "output_type": "stream",
          "name": "stdout",
          "text": [
            "Moda da variável anos de educação:  0    12\n",
            "Name: education_yrs, dtype: int64\n",
            "Moda da variávl anos de experiência:  0    14\n",
            "Name: experience_yrs, dtype: int64\n",
            "Moda da variável idade: 0    32\n",
            "Name: age, dtype: int64\n"
          ]
        }
      ]
    },
    {
      "cell_type": "markdown",
      "source": [
        "####i-) Analisando especificamente a variável **idade**, responda: qual é a idade do conjunto de dados em que **70%** dos funcionários apresentam idade inferior?"
      ],
      "metadata": {
        "id": "JDjD9nSwGB3O"
      }
    },
    {
      "cell_type": "code",
      "source": [
        "print('70% dos funcionários tem idade igual ou inferior a:', np.percentile(df['age'], 70))"
      ],
      "metadata": {
        "id": "CTEjI25IGfkF",
        "outputId": "21f54594-7035-4c91-aad4-0144e1eeaabb",
        "colab": {
          "base_uri": "https://localhost:8080/"
        }
      },
      "execution_count": 111,
      "outputs": [
        {
          "output_type": "stream",
          "name": "stdout",
          "text": [
            "70% dos funcionários tem idade igual ou inferior a: 42.0\n"
          ]
        }
      ]
    },
    {
      "cell_type": "markdown",
      "source": [
        "####j-) Analisando especificamente a variável **anos de experiência**, responda: qual é a quantidade de anos de experiência no conjunto de dados em que 10% dos funcionários ainda não possuem?"
      ],
      "metadata": {
        "id": "GQ8baHEpIbYA"
      }
    },
    {
      "cell_type": "code",
      "source": [
        "yrs_exp = np.percentile(df['experience_yrs'], 10)\n",
        "print(f'10% dos funcionários ainda não alcançaram {yrs_exp} anos de experiência!')"
      ],
      "metadata": {
        "id": "U3XniCMGIpUP",
        "outputId": "60548dcb-d7a9-4890-b40e-3fccc94b961d",
        "colab": {
          "base_uri": "https://localhost:8080/"
        }
      },
      "execution_count": 112,
      "outputs": [
        {
          "output_type": "stream",
          "name": "stdout",
          "text": [
            "10% dos funcionários ainda não alcançaram 3.0 anos de experiência!\n"
          ]
        }
      ]
    },
    {
      "cell_type": "markdown",
      "source": [
        "####k-) Calcule o desvio-padrão de cada um dos atributos: anos de educação, anos de experiência e idade."
      ],
      "metadata": {
        "id": "cC_C6Ha2AlWq"
      }
    },
    {
      "cell_type": "code",
      "source": [
        "print('Desvio Padrão da variável anos de educação:', df['education_yrs'].std())\n",
        "print('Desvio Padrão da variável anos de experiência:', df['experience_yrs'].std())\n",
        "print('Desvio Padrão da variável idade:', df['age'].std())"
      ],
      "metadata": {
        "id": "T7j8fluDAxsZ",
        "outputId": "9323a545-c09f-4ddf-f34a-2e84607fa769",
        "colab": {
          "base_uri": "https://localhost:8080/"
        }
      },
      "execution_count": 113,
      "outputs": [
        {
          "output_type": "stream",
          "name": "stdout",
          "text": [
            "Desvio Padrão da variável anos de educação: 2.6153726283543635\n",
            "Desvio Padrão da variável anos de experiência: 12.379710087848084\n",
            "Desvio Padrão da variável idade: 11.726572722555636\n"
          ]
        }
      ]
    },
    {
      "cell_type": "markdown",
      "source": [
        "####l-) Determine qual dos três atributos apresenta maior variabilidade: anos de educação, anos de experiência ou idade? Justifique a sua resposta."
      ],
      "metadata": {
        "id": "OH-IBwUrONIF"
      }
    },
    {
      "cell_type": "code",
      "source": [
        "DP_edu_yrs = df['education_yrs'].std()\n",
        "DP_exp_yrs = df['experience_yrs'].std()\n",
        "DP_age = df['age'].std()\n",
        "\n",
        "if DP_edu_yrs > DP_exp_yrs and DP_edu_yrs > DP_age:\n",
        "  print(\"A variável education_yrs possui maior variabilidade, com \", DP_edu_yrs)\n",
        "\n",
        "if DP_exp_yrs > DP_edu_yrs and DP_exp_yrs > DP_age:\n",
        "  print(\"a variável experience_yrs possui maior variabilidade, com \", DP_exp_yrs)\n",
        "\n",
        "if DP_age > DP_edu_yrs and DP_age > DP_exp_yrs:\n",
        "  print(\"A variável age possui maior variabilidade, com \", DP_age)"
      ],
      "metadata": {
        "id": "2oQmNM5EPBBj",
        "outputId": "9f1070d6-0e66-42f8-b2ac-8bf871554102",
        "colab": {
          "base_uri": "https://localhost:8080/"
        }
      },
      "execution_count": 114,
      "outputs": [
        {
          "output_type": "stream",
          "name": "stdout",
          "text": [
            "a variável experience_yrs possui maior variabilidade, com  12.379710087848084\n"
          ]
        }
      ]
    },
    {
      "cell_type": "markdown",
      "source": [
        "####m-) Leia o conjunto de dados [Atlas_Brasil_2014.csv](https://github.com/malegopc/DSBD/blob/main/Datasets/Atlas/Atlas_Brasil_2014.csv)"
      ],
      "metadata": {
        "id": "w7k40piNBgeA"
      }
    },
    {
      "cell_type": "code",
      "source": [
        "data = pd.read_csv(\"DSBD/Datasets/Atlas/Atlas_Brasil_2014.csv\")"
      ],
      "metadata": {
        "id": "Uc9rJyGhEEkx"
      },
      "execution_count": 115,
      "outputs": []
    },
    {
      "cell_type": "markdown",
      "source": [
        "n-) Calcule a média do IDHM."
      ],
      "metadata": {
        "id": "mL8wMEgrJ2Ge"
      }
    },
    {
      "cell_type": "code",
      "source": [
        "print(\"A média do IDHM é: \", data['IDHM'].mean())"
      ],
      "metadata": {
        "id": "kEih4G-bKGnD",
        "outputId": "5311272b-a0fc-4782-ad0a-398279c27ef9",
        "colab": {
          "base_uri": "https://localhost:8080/"
        }
      },
      "execution_count": 116,
      "outputs": [
        {
          "output_type": "stream",
          "name": "stdout",
          "text": [
            "A média do IDHM é:  0.7376296296296296\n"
          ]
        }
      ]
    },
    {
      "cell_type": "markdown",
      "source": [
        "o-) Qual é a taxa de mortalidade em que 50% dos estados apresentam taxa inferior?"
      ],
      "metadata": {
        "id": "uEsKZ-X2KHFk"
      }
    },
    {
      "cell_type": "code",
      "source": [
        "print(\"50% dos estados apresentam taxa igual ou inferior de :\", data['MORT1'].quantile(0.5))"
      ],
      "metadata": {
        "id": "GlUl-QqAKfGA",
        "outputId": "343217c1-05e0-467f-c9f6-59825eefe08a",
        "colab": {
          "base_uri": "https://localhost:8080/"
        }
      },
      "execution_count": 117,
      "outputs": [
        {
          "output_type": "stream",
          "name": "stdout",
          "text": [
            "50% dos estados apresentam taxa igual ou inferior de : 16.86\n"
          ]
        }
      ]
    },
    {
      "cell_type": "markdown",
      "source": [
        "p-) Calcule qual o valor de RDPC (renda per capita) em que 25% dos estados apresentam valor superior."
      ],
      "metadata": {
        "id": "u5zF4MilLdB5"
      }
    },
    {
      "cell_type": "code",
      "source": [
        "print(\"25% dos estados apresentam valor de RDPC acima de :\", data['RDPC'].quantile(0.25))"
      ],
      "metadata": {
        "id": "vojyOIEiL72c",
        "outputId": "36a33455-1699-43eb-f1c5-d5fb28ed4167",
        "colab": {
          "base_uri": "https://localhost:8080/"
        }
      },
      "execution_count": 118,
      "outputs": [
        {
          "output_type": "stream",
          "name": "stdout",
          "text": [
            "25% dos estados apresentam valor de RDPC acima de : 530.58\n"
          ]
        }
      ]
    },
    {
      "cell_type": "markdown",
      "source": [
        "q-) Determine dentre as duas variáveis: T_ANALF25M (Taxa de analfabetismo - 25 anos ou mais) ou RDPC (Renda per capita média), qual apresenta maior variabilidade. Justifique a sua resposta."
      ],
      "metadata": {
        "id": "tsJmffdDLwy8"
      }
    },
    {
      "cell_type": "code",
      "source": [
        "DP_TA = data[\"T_ANALF25M\"].std()\n",
        "DP_RDPC = data[\"RDPC\"].std()\n",
        "\n",
        "if DP_TA > DP_RDPC:\n",
        "  print(\"A variável T_ANALF25M possui maior variabilidade, com \", DP_TA)\n",
        "else:\n",
        "  print(\"A variável RDPC possui maior variabilidade, com \", DP_RDPC)"
      ],
      "metadata": {
        "id": "7UjsBWb4Lwbu",
        "outputId": "80cf2ac3-a381-4bb7-b84a-2443fa153b8b",
        "colab": {
          "base_uri": "https://localhost:8080/"
        }
      },
      "execution_count": 119,
      "outputs": [
        {
          "output_type": "stream",
          "name": "stdout",
          "text": [
            "A variável RDPC possui maior variabilidade, com  268.68154446939883\n"
          ]
        }
      ]
    }
  ]
}